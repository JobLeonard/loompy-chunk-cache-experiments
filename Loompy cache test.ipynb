{
 "cells": [
  {
   "cell_type": "code",
   "execution_count": 1,
   "metadata": {
    "collapsed": true,
    "scrolled": true
   },
   "outputs": [],
   "source": [
    "import loompy\n",
    "import numpy as np\n",
    "import h5py\n",
    "import random\n",
    "import time\n",
    "\n",
    "# open file with custom chunk cache settings\n",
    "def open_HDF5(filename, cache=1, libver='earliest'):\n",
    "    propfaid = h5py.h5p.create(h5py.h5p.FILE_ACCESS)\n",
    "    settings = list(propfaid.get_cache())\n",
    "    # will return default: [0, 521, 1048576, 0.75]\n",
    "\n",
    "    # increase cache:\n",
    "    settings[2] = 1024*1024*cache\n",
    "    propfaid.set_cache(*settings)\n",
    "    settings = propfaid.get_cache()\n",
    "    #print(settings)\n",
    "    fid = h5py.h5f.open(filename, flags=h5py.h5f.ACC_RDWR, fapl=propfaid)\n",
    "    return h5py.File(fid, libver)\n",
    "\n",
    "# benchmark random access time\n",
    "def time_random_access(hdf5_file, times=100):\n",
    "    rmax = hdf5_file[\"/matrix\"].shape[0]-1\n",
    "    start = time.perf_counter()\n",
    "    for t in range(0, times):\n",
    "        idx = random.randint(0, rmax)\n",
    "        hdf5_file['/matrix'][idx,:]\n",
    "    end = time.perf_counter()\n",
    "    print(\"%f s\" % (end-start))\n",
    "    print(\"%f s\" % (end-start))\n",
    "    \n",
    "# benchmark sequential access time (fancy indexing)\n",
    "def time_sequential_access(hdf5_file, rows=1000, output=[]):\n",
    "    rmax = hdf5_file[\"/matrix\"].shape[0]-1\n",
    "    start = time.perf_counter()\n",
    "    hdf5_file['/matrix'][0:rows,:]\n",
    "    end = time.perf_counter()\n",
    "    output.append(\"%f s\" % (end-start))\n",
    "    \n",
    "def bench_random_access(filename, rows=10):\n",
    "    for i in range(0, 10):\n",
    "        output.append(\"cache size: %d\" % (1<<i))\n",
    "        file = open_HDF5(filename, 1<<i)\n",
    "        output.append(\"row length: %d\" % (hdf5_file[\"/matrix\"].shape[1]-1))\n",
    "        time_random_access(file, rows)\n",
    "        file.close()\n",
    "        return output\n",
    "        \n",
    "        \n",
    "def bench_sequential_access(filename, rows=100):\n",
    "    output = []\n",
    "    file = open_HDF5(filename, 1)\n",
    "    output.append(\"row length: %d\" % (file[\"/matrix\"].shape[1]-1))\n",
    "    file.close()\n",
    "\n",
    "    output.append(\"cache size: 0\")\n",
    "    file = open_HDF5(filename, 0)\n",
    "    time_sequential_access(file, rows, output)\n",
    "    file.close()\n",
    "\n",
    "    \n",
    "    for i in range(0, 10):\n",
    "        output.append(\"cache size: %d\" % (1<<i))\n",
    "        file = open_HDF5(filename, 1<<i)\n",
    "        time_sequential_access(file, rows, output)\n",
    "        file.close()\n",
    "    for line in output:\n",
    "        print(line)"
   ]
  },
  {
   "cell_type": "code",
   "execution_count": 11,
   "metadata": {},
   "outputs": [
    {
     "name": "stdout",
     "output_type": "stream",
     "text": [
      "row length: 3004\n",
      "cache size: 0\n",
      "0.340922 s\n",
      "cache size: 1\n",
      "0.331973 s\n",
      "cache size: 2\n",
      "0.314102 s\n",
      "cache size: 4\n",
      "0.302156 s\n",
      "cache size: 8\n",
      "0.305439 s\n",
      "cache size: 16\n",
      "0.297736 s\n",
      "cache size: 32\n",
      "0.304083 s\n",
      "cache size: 64\n",
      "0.305899 s\n",
      "cache size: 128\n",
      "0.301489 s\n",
      "cache size: 256\n",
      "0.301215 s\n",
      "cache size: 512\n",
      "0.298512 s\n"
     ]
    }
   ],
   "source": [
    "filename = b\"/home/job/loom-datasets/Published/cortex.loom\"\n",
    "bench_sequential_access(filename, 25000)"
   ]
  },
  {
   "cell_type": "code",
   "execution_count": 13,
   "metadata": {
    "scrolled": false
   },
   "outputs": [
    {
     "name": "stdout",
     "output_type": "stream",
     "text": [
      "row length: 44871\n",
      "cache size: 0\n",
      "0.779106 s\n",
      "cache size: 1\n",
      "0.776456 s\n",
      "cache size: 2\n",
      "0.794281 s\n",
      "cache size: 4\n",
      "0.778804 s\n",
      "cache size: 8\n",
      "0.790101 s\n",
      "cache size: 16\n",
      "0.809911 s\n",
      "cache size: 32\n",
      "0.792409 s\n",
      "cache size: 64\n",
      "0.818961 s\n",
      "cache size: 128\n",
      "0.783704 s\n",
      "cache size: 256\n",
      "0.775080 s\n",
      "cache size: 512\n",
      "0.837825 s\n"
     ]
    }
   ],
   "source": [
    "filename = b\"/home/job/loom-datasets/Build 161109/Forebrain_E9-E18.5.loom\"\n",
    "bench_sequential_access(filename, 1000)"
   ]
  },
  {
   "cell_type": "code",
   "execution_count": null,
   "metadata": {
    "collapsed": true
   },
   "outputs": [],
   "source": [
    "filename = b\"/home/job/loom-datasets/Adolescent2/Oligos_All.loom\"\n",
    "bench_sequential_access(filename, 10000)"
   ]
  },
  {
   "cell_type": "code",
   "execution_count": 9,
   "metadata": {},
   "outputs": [
    {
     "name": "stdout",
     "output_type": "stream",
     "text": [
      "0.4201705899999979\n",
      "0.4296598740002082\n"
     ]
    }
   ],
   "source": [
    "file = open_HDF5(b\"/home/job/loom-datasets/Build 161109/Forebrain_E9-E18.5.loom\", 100, 'latest')\n",
    "matrix = file[\"/matrix\"]\n",
    "\n",
    "start = time.perf_counter()\n",
    "for i in range(0, 10):\n",
    "    t = matrix[i*100,(i+1)*100:]\n",
    "end = time.perf_counter()\n",
    "print(end-start)\n",
    "\n",
    "start = time.perf_counter()\n",
    "for i in range(0, 10):\n",
    "    t = file[\"/matrix\"][i*100,(i+1)*100:]\n",
    "end = time.perf_counter()\n",
    "print(end-start)\n",
    "\n",
    "file.close()"
   ]
  },
  {
   "cell_type": "code",
   "execution_count": 4,
   "metadata": {
    "collapsed": true
   },
   "outputs": [],
   "source": [
    "filename = b\"/home/job/loom-datasets/Buggy/test_loom.loom\"\n",
    "file = open_HDF5(filename, 100, 'latest')"
   ]
  },
  {
   "cell_type": "code",
   "execution_count": 2,
   "metadata": {},
   "outputs": [
    {
     "data": {
      "text/html": [
       "This LoomConnection has been closed"
      ],
      "text/plain": [
       "<loompy.loompy.LoomConnection at 0x7f3f3939c780>"
      ]
     },
     "execution_count": 2,
     "metadata": {},
     "output_type": "execute_result"
    }
   ],
   "source": [
    "filename = b\"/home/job/loom-datasets/Published/cortex.loom\"\n",
    "ds = loompy.connect(filename)\n",
    "ds.close()\n",
    "ds"
   ]
  },
  {
   "cell_type": "code",
   "execution_count": 20,
   "metadata": {
    "scrolled": true
   },
   "outputs": [
    {
     "data": {
      "text/html": [
       "<p><strong>Somatosensory cortex and hippocampus CA1</strong> (4998 genes, 3005 cells, 1 layers)<br/>/home/job/loom-datasets/Published/cortex.loom<br/><em>Dataset as published in Zeisel et al. Science 2015</em><br/><table><tr><td>&nbsp;</td><td>&nbsp;</td><td>&nbsp;</td><td>&nbsp;</td><td>&nbsp;</td><td>&nbsp;</td><td>&nbsp;</td><td>&nbsp;</td><td>&nbsp;</td><td>&nbsp;</td><td>&nbsp;</td><td>&nbsp;</td><td>&nbsp;</td><td>&nbsp;</td><td>&nbsp;</td><td>&nbsp;</td><td><strong>Age</strong></td><td>21.0</td><td>20.0</td><td>20.0</td><td>21.0</td><td>25.0</td><td>20.0</td><td>25.0</td><td>23.0</td><td>21.0</td><td>21.0</td><td>...</td></tr><tr><td>&nbsp;</td><td>&nbsp;</td><td>&nbsp;</td><td>&nbsp;</td><td>&nbsp;</td><td>&nbsp;</td><td>&nbsp;</td><td>&nbsp;</td><td>&nbsp;</td><td>&nbsp;</td><td>&nbsp;</td><td>&nbsp;</td><td>&nbsp;</td><td>&nbsp;</td><td>&nbsp;</td><td>&nbsp;</td><td><strong>BackSPIN_level_0_group</strong></td><td>0.0</td><td>0.0</td><td>0.0</td><td>0.0</td><td>0.0</td><td>0.0</td><td>0.0</td><td>0.0</td><td>0.0</td><td>0.0</td><td>...</td></tr><tr><td>&nbsp;</td><td>&nbsp;</td><td>&nbsp;</td><td>&nbsp;</td><td>&nbsp;</td><td>&nbsp;</td><td>&nbsp;</td><td>&nbsp;</td><td>&nbsp;</td><td>&nbsp;</td><td>&nbsp;</td><td>&nbsp;</td><td>&nbsp;</td><td>&nbsp;</td><td>&nbsp;</td><td>&nbsp;</td><td><strong>BackSPIN_level_1_group</strong></td><td>1.0</td><td>1.0</td><td>1.0</td><td>1.0</td><td>1.0</td><td>1.0</td><td>1.0</td><td>1.0</td><td>1.0</td><td>1.0</td><td>...</td></tr><tr><td>&nbsp;</td><td>&nbsp;</td><td>&nbsp;</td><td>&nbsp;</td><td>&nbsp;</td><td>&nbsp;</td><td>&nbsp;</td><td>&nbsp;</td><td>&nbsp;</td><td>&nbsp;</td><td>&nbsp;</td><td>&nbsp;</td><td>&nbsp;</td><td>&nbsp;</td><td>&nbsp;</td><td>&nbsp;</td><td><strong>BackSPIN_level_2_group</strong></td><td>1.0</td><td>1.0</td><td>1.0</td><td>1.0</td><td>1.0</td><td>1.0</td><td>1.0</td><td>1.0</td><td>1.0</td><td>1.0</td><td>...</td></tr><tr><td>&nbsp;</td><td>&nbsp;</td><td>&nbsp;</td><td>&nbsp;</td><td>&nbsp;</td><td>&nbsp;</td><td>&nbsp;</td><td>&nbsp;</td><td>&nbsp;</td><td>&nbsp;</td><td>&nbsp;</td><td>&nbsp;</td><td>&nbsp;</td><td>&nbsp;</td><td>&nbsp;</td><td>&nbsp;</td><td><strong>BackSPIN_level_3_group</strong></td><td>1.0</td><td>1.0</td><td>1.0</td><td>1.0</td><td>1.0</td><td>1.0</td><td>1.0</td><td>1.0</td><td>1.0</td><td>1.0</td><td>...</td></tr><tr><td>&nbsp;</td><td>&nbsp;</td><td>&nbsp;</td><td>&nbsp;</td><td>&nbsp;</td><td>&nbsp;</td><td>&nbsp;</td><td>&nbsp;</td><td>&nbsp;</td><td>&nbsp;</td><td>&nbsp;</td><td>&nbsp;</td><td>&nbsp;</td><td>&nbsp;</td><td>&nbsp;</td><td>&nbsp;</td><td><strong>CellID</strong></td><td>1772071015_C02</td><td>1772071017_G12</td><td>1772071017_A05</td><td>1772071014_B06</td><td>1772067065_H06</td><td>1772071017_E02</td><td>1772067065_B07</td><td>1772067060_B09</td><td>1772071014_E04</td><td>1772071015_D04</td><td>...</td></tr><tr><td>&nbsp;</td><td>&nbsp;</td><td>&nbsp;</td><td>&nbsp;</td><td>&nbsp;</td><td>&nbsp;</td><td>&nbsp;</td><td>&nbsp;</td><td>&nbsp;</td><td>&nbsp;</td><td>&nbsp;</td><td>&nbsp;</td><td>&nbsp;</td><td>&nbsp;</td><td>&nbsp;</td><td>&nbsp;</td><td><strong>Class</strong></td><td>interneurons</td><td>interneurons</td><td>interneurons</td><td>interneurons</td><td>interneurons</td><td>interneurons</td><td>interneurons</td><td>interneurons</td><td>interneurons</td><td>interneurons</td><td>...</td></tr><tr><td>&nbsp;</td><td>&nbsp;</td><td>&nbsp;</td><td>&nbsp;</td><td>&nbsp;</td><td>&nbsp;</td><td>&nbsp;</td><td>&nbsp;</td><td>&nbsp;</td><td>&nbsp;</td><td>&nbsp;</td><td>&nbsp;</td><td>&nbsp;</td><td>&nbsp;</td><td>&nbsp;</td><td>&nbsp;</td><td><strong>Diameter</strong></td><td>0.0</td><td>9.56</td><td>11.1</td><td>11.7</td><td>11.0</td><td>11.9</td><td>11.3</td><td>10.9</td><td>12.9</td><td>11.2</td><td>...</td></tr><tr><td>&nbsp;</td><td>&nbsp;</td><td>&nbsp;</td><td>&nbsp;</td><td>&nbsp;</td><td>&nbsp;</td><td>&nbsp;</td><td>&nbsp;</td><td>&nbsp;</td><td>&nbsp;</td><td>&nbsp;</td><td>&nbsp;</td><td>&nbsp;</td><td>&nbsp;</td><td>&nbsp;</td><td>&nbsp;</td><td><strong>Group</strong></td><td>1.0</td><td>1.0</td><td>1.0</td><td>1.0</td><td>1.0</td><td>1.0</td><td>1.0</td><td>1.0</td><td>1.0</td><td>1.0</td><td>...</td></tr><tr><td>&nbsp;</td><td>&nbsp;</td><td>&nbsp;</td><td>&nbsp;</td><td>&nbsp;</td><td>&nbsp;</td><td>&nbsp;</td><td>&nbsp;</td><td>&nbsp;</td><td>&nbsp;</td><td>&nbsp;</td><td>&nbsp;</td><td>&nbsp;</td><td>&nbsp;</td><td>&nbsp;</td><td>&nbsp;</td><td><strong>Sex</strong></td><td>1.0</td><td>-1.0</td><td>-1.0</td><td>1.0</td><td>1.0</td><td>-1.0</td><td>1.0</td><td>-1.0</td><td>1.0</td><td>1.0</td><td>...</td></tr><tr><td>&nbsp;</td><td>&nbsp;</td><td>&nbsp;</td><td>&nbsp;</td><td>&nbsp;</td><td>&nbsp;</td><td>&nbsp;</td><td>&nbsp;</td><td>&nbsp;</td><td>&nbsp;</td><td>&nbsp;</td><td>&nbsp;</td><td>&nbsp;</td><td>&nbsp;</td><td>&nbsp;</td><td>&nbsp;</td><td><strong>Subclass</strong></td><td>Int10</td><td>Int10</td><td>Int6</td><td>Int10</td><td>Int9</td><td>Int9</td><td>Int10</td><td>Int9</td><td>Int10</td><td>Int10</td><td>...</td></tr><tr><td>&nbsp;</td><td>&nbsp;</td><td>&nbsp;</td><td>&nbsp;</td><td>&nbsp;</td><td>&nbsp;</td><td>&nbsp;</td><td>&nbsp;</td><td>&nbsp;</td><td>&nbsp;</td><td>&nbsp;</td><td>&nbsp;</td><td>&nbsp;</td><td>&nbsp;</td><td>&nbsp;</td><td>&nbsp;</td><td><strong>Tissue</strong></td><td>sscortex</td><td>sscortex</td><td>sscortex</td><td>sscortex</td><td>sscortex</td><td>sscortex</td><td>sscortex</td><td>ca1hippocampus</td><td>sscortex</td><td>sscortex</td><td>...</td></tr><tr><td>&nbsp;</td><td>&nbsp;</td><td>&nbsp;</td><td>&nbsp;</td><td>&nbsp;</td><td>&nbsp;</td><td>&nbsp;</td><td>&nbsp;</td><td>&nbsp;</td><td>&nbsp;</td><td>&nbsp;</td><td>&nbsp;</td><td>&nbsp;</td><td>&nbsp;</td><td>&nbsp;</td><td>&nbsp;</td><td><strong>Total_mRNA</strong></td><td>21580.0</td><td>21748.0</td><td>31642.0</td><td>32916.0</td><td>21531.0</td><td>24799.0</td><td>31406.0</td><td>20389.0</td><td>23022.0</td><td>24184.0</td><td>...</td></tr><tr><td>&nbsp;</td><td>&nbsp;</td><td>&nbsp;</td><td>&nbsp;</td><td>&nbsp;</td><td>&nbsp;</td><td>&nbsp;</td><td>&nbsp;</td><td>&nbsp;</td><td>&nbsp;</td><td>&nbsp;</td><td>&nbsp;</td><td>&nbsp;</td><td>&nbsp;</td><td>&nbsp;</td><td>&nbsp;</td><td><strong>Well</strong></td><td>11.0</td><td>95.0</td><td>33.0</td><td>42.0</td><td>48.0</td><td>13.0</td><td>50.0</td><td>66.0</td><td>29.0</td><td>28.0</td><td>...</td></tr><tr><td>&nbsp;</td><td>&nbsp;</td><td>&nbsp;</td><td>&nbsp;</td><td>&nbsp;</td><td>&nbsp;</td><td>&nbsp;</td><td>&nbsp;</td><td>&nbsp;</td><td>&nbsp;</td><td>&nbsp;</td><td>&nbsp;</td><td>&nbsp;</td><td>&nbsp;</td><td>&nbsp;</td><td>&nbsp;</td><td><strong>_LogCV</strong></td><td>2.47273</td><td>2.46662</td><td>2.40088</td><td>2.44409</td><td>1.74765</td><td>2.05394</td><td>2.26126</td><td>1.56517</td><td>1.81616</td><td>1.81382</td><td>...</td></tr><tr><td>&nbsp;</td><td>&nbsp;</td><td>&nbsp;</td><td>&nbsp;</td><td>&nbsp;</td><td>&nbsp;</td><td>&nbsp;</td><td>&nbsp;</td><td>&nbsp;</td><td>&nbsp;</td><td>&nbsp;</td><td>&nbsp;</td><td>&nbsp;</td><td>&nbsp;</td><td>&nbsp;</td><td>&nbsp;</td><td><strong>_LogMean</strong></td><td>1.46744</td><td>1.49975</td><td>1.98943</td><td>2.10277</td><td>1.42432</td><td>1.65501</td><td>1.97224</td><td>1.26961</td><td>1.51113</td><td>1.5723</td><td>...</td></tr><tr><td>&nbsp;</td><td>&nbsp;</td><td>&nbsp;</td><td>&nbsp;</td><td>&nbsp;</td><td>&nbsp;</td><td>&nbsp;</td><td>&nbsp;</td><td>&nbsp;</td><td>&nbsp;</td><td>&nbsp;</td><td>&nbsp;</td><td>&nbsp;</td><td>&nbsp;</td><td>&nbsp;</td><td>&nbsp;</td><td><strong>_PC1</strong></td><td>-21.1732</td><td>-21.0242</td><td>-29.6499</td><td>-29.4754</td><td>-23.8994</td><td>-25.0738</td><td>-31.8482</td><td>-23.2332</td><td>-24.1445</td><td>-24.351</td><td>...</td></tr><tr><td>&nbsp;</td><td>&nbsp;</td><td>&nbsp;</td><td>&nbsp;</td><td>&nbsp;</td><td>&nbsp;</td><td>&nbsp;</td><td>&nbsp;</td><td>&nbsp;</td><td>&nbsp;</td><td>&nbsp;</td><td>&nbsp;</td><td>&nbsp;</td><td>&nbsp;</td><td>&nbsp;</td><td>&nbsp;</td><td><strong>_PC2</strong></td><td>0.494046</td><td>-0.946452</td><td>6.82215</td><td>5.16621</td><td>2.21029</td><td>1.65569</td><td>6.78903</td><td>1.51177</td><td>3.61391</td><td>3.13624</td><td>...</td></tr><tr><td>&nbsp;</td><td>&nbsp;</td><td>&nbsp;</td><td>&nbsp;</td><td>&nbsp;</td><td>&nbsp;</td><td>&nbsp;</td><td>&nbsp;</td><td>&nbsp;</td><td>&nbsp;</td><td>&nbsp;</td><td>&nbsp;</td><td>&nbsp;</td><td>&nbsp;</td><td>&nbsp;</td><td>&nbsp;</td><td><strong>_Total</strong></td><td>13821.0</td><td>14134.0</td><td>19846.0</td><td>21468.0</td><td>13414.0</td><td>15740.0</td><td>19611.0</td><td>12050.0</td><td>14246.0</td><td>14863.0</td><td>...</td></tr><tr><td>&nbsp;</td><td>&nbsp;</td><td>&nbsp;</td><td>&nbsp;</td><td>&nbsp;</td><td>&nbsp;</td><td>&nbsp;</td><td>&nbsp;</td><td>&nbsp;</td><td>&nbsp;</td><td>&nbsp;</td><td>&nbsp;</td><td>&nbsp;</td><td>&nbsp;</td><td>&nbsp;</td><td>&nbsp;</td><td><strong>_TotalRNA</strong></td><td>13821.0</td><td>14134.0</td><td>19846.0</td><td>21468.0</td><td>13414.0</td><td>15740.0</td><td>19611.0</td><td>12050.0</td><td>14246.0</td><td>14863.0</td><td>...</td></tr><tr><td>&nbsp;</td><td>&nbsp;</td><td>&nbsp;</td><td>&nbsp;</td><td>&nbsp;</td><td>&nbsp;</td><td>&nbsp;</td><td>&nbsp;</td><td>&nbsp;</td><td>&nbsp;</td><td>&nbsp;</td><td>&nbsp;</td><td>&nbsp;</td><td>&nbsp;</td><td>&nbsp;</td><td>&nbsp;</td><td><strong>_tSNE1</strong></td><td>8.78662</td><td>8.92593</td><td>7.99756</td><td>8.77245</td><td>8.84593</td><td>8.86536</td><td>8.7722</td><td>8.75533</td><td>8.78179</td><td>8.73248</td><td>...</td></tr><tr><td>&nbsp;</td><td>&nbsp;</td><td>&nbsp;</td><td>&nbsp;</td><td>&nbsp;</td><td>&nbsp;</td><td>&nbsp;</td><td>&nbsp;</td><td>&nbsp;</td><td>&nbsp;</td><td>&nbsp;</td><td>&nbsp;</td><td>&nbsp;</td><td>&nbsp;</td><td>&nbsp;</td><td>&nbsp;</td><td><strong>_tSNE2</strong></td><td>-12.6839</td><td>-12.7522</td><td>-11.9196</td><td>-12.8151</td><td>-12.8195</td><td>-12.8287</td><td>-12.8996</td><td>-12.8563</td><td>-12.8535</td><td>-12.7934</td><td>...</td></tr><tr><td><strong>BackSPIN_level_0_group</strong></td><td><strong>BackSPIN_level_1_group</strong></td><td><strong>BackSPIN_level_2_group</strong></td><td><strong>BackSPIN_level_3_group</strong></td><td><strong>Gene</strong></td><td><strong>GeneGroup</strong></td><td><strong>GeneType</strong></td><td><strong>_Excluded</strong></td><td><strong>_LogCV</strong></td><td><strong>_LogMean</strong></td><td><strong>_Noise</strong></td><td><strong>_PC1</strong></td><td><strong>_PC2</strong></td><td><strong>_Total</strong></td><td><strong>_tSNE1</strong></td><td><strong>_tSNE2</strong></td><td>&nbsp;</td><td>&nbsp;</td><td>&nbsp;</td><td>&nbsp;</td><td>&nbsp;</td><td>&nbsp;</td><td>&nbsp;</td><td>&nbsp;</td><td>&nbsp;</td><td>&nbsp;</td><td>&nbsp;</td><td>...</td></tr><tr><td>0.0</td><td>0.0</td><td>0.0</td><td>0.0</td><td>Tspan12</td><td>1.0</td><td>mRNA</td><td>1.0</td><td>1.62078</td><td>-1.84234</td><td>-0.014305</td><td>-21.8858</td><td>-0.340914</td><td>838.0</td><td>2.11698</td><td>-7.82388</td><td>&nbsp;</td><td>0.0</td><td>0.0</td><td>3.0</td><td>0.0</td><td>0.0</td><td>3.0</td><td>0.0</td><td>0.0</td><td>0.0</td><td>0.0</td><td>...</td></tr><tr><td>0.0</td><td>0.0</td><td>0.0</td><td>0.0</td><td>Tshz1</td><td>1.0</td><td>mRNA</td><td>1.0</td><td>1.52101</td><td>-1.23913</td><td>-0.134017</td><td>-18.7253</td><td>4.33966</td><td>1273.0</td><td>10.9867</td><td>1.45471</td><td>&nbsp;</td><td>3.0</td><td>3.0</td><td>3.0</td><td>5.0</td><td>0.0</td><td>2.0</td><td>3.0</td><td>2.0</td><td>9.0</td><td>3.0</td><td>...</td></tr><tr><td>0.0</td><td>0.0</td><td>0.0</td><td>0.0</td><td>Fnbp1l</td><td>1.0</td><td>mRNA</td><td>1.0</td><td>0.934873</td><td>0.0606402</td><td>-0.135549</td><td>7.63288</td><td>-7.97435</td><td>3134.0</td><td>3.86568</td><td>5.63581</td><td>&nbsp;</td><td>32.0</td><td>42.0</td><td>30.0</td><td>20.0</td><td>23.0</td><td>39.0</td><td>14.0</td><td>17.0</td><td>26.0</td><td>32.0</td><td>...</td></tr><tr><td>0.0</td><td>0.0</td><td>0.0</td><td>0.0</td><td>Adamts15</td><td>1.0</td><td>mRNA</td><td>1.0</td><td>2.8937</td><td>-4.48706</td><td>0.0993604</td><td>-31.9009</td><td>-1.48666</td><td>134.0</td><td>11.5447</td><td>-3.0748</td><td>&nbsp;</td><td>1.0</td><td>6.0</td><td>14.0</td><td>10.0</td><td>0.0</td><td>6.0</td><td>3.0</td><td>0.0</td><td>6.0</td><td>2.0</td><td>...</td></tr><tr><td>0.0</td><td>0.0</td><td>0.0</td><td>0.0</td><td>Cldn12</td><td>1.0</td><td>mRNA</td><td>1.0</td><td>1.26893</td><td>-1.39833</td><td>-0.104102</td><td>-15.0804</td><td>-1.2253</td><td>1140.0</td><td>11.8084</td><td>0.603621</td><td>&nbsp;</td><td>4.0</td><td>15.0</td><td>3.0</td><td>6.0</td><td>4.0</td><td>9.0</td><td>4.0</td><td>4.0</td><td>2.0</td><td>3.0</td><td>...</td></tr><tr><td>0.0</td><td>0.0</td><td>0.0</td><td>0.0</td><td>Rxfp1</td><td>1.0</td><td>mRNA</td><td>1.0</td><td>2.65501</td><td>-4.16083</td><td>-0.148866</td><td>-30.7041</td><td>-2.27274</td><td>168.0</td><td>14.3671</td><td>-6.31637</td><td>&nbsp;</td><td>0.0</td><td>3.0</td><td>0.0</td><td>2.0</td><td>0.0</td><td>1.0</td><td>0.0</td><td>0.0</td><td>0.0</td><td>0.0</td><td>...</td></tr><tr><td>0.0</td><td>0.0</td><td>0.0</td><td>0.0</td><td>2310042E22Rik</td><td>1.0</td><td>mRNA</td><td>1.0</td><td>2.6988</td><td>-3.24937</td><td>0.0577129</td><td>-29.3836</td><td>-2.57694</td><td>316.0</td><td>14.3688</td><td>-6.62741</td><td>&nbsp;</td><td>0.0</td><td>2.0</td><td>1.0</td><td>1.0</td><td>0.0</td><td>0.0</td><td>0.0</td><td>0.0</td><td>0.0</td><td>0.0</td><td>...</td></tr><tr><td>0.0</td><td>0.0</td><td>0.0</td><td>0.0</td><td>Sema3c</td><td>1.0</td><td>mRNA</td><td>1.0</td><td>2.21197</td><td>0.0893538</td><td>0.0228843</td><td>-11.7715</td><td>-1.44383</td><td>3197.0</td><td>6.70962</td><td>7.12995</td><td>&nbsp;</td><td>0.0</td><td>3.0</td><td>0.0</td><td>1.0</td><td>2.0</td><td>0.0</td><td>0.0</td><td>0.0</td><td>0.0</td><td>2.0</td><td>...</td></tr><tr><td>0.0</td><td>0.0</td><td>0.0</td><td>0.0</td><td>Jam2</td><td>1.0</td><td>mRNA</td><td>1.0</td><td>1.94405</td><td>-1.87015</td><td>-0.151532</td><td>-24.4951</td><td>2.0446</td><td>822.0</td><td>1.93695</td><td>-7.95324</td><td>&nbsp;</td><td>3.0</td><td>3.0</td><td>9.0</td><td>3.0</td><td>0.0</td><td>1.0</td><td>7.0</td><td>2.0</td><td>2.0</td><td>1.0</td><td>...</td></tr><tr><td>0.0</td><td>0.0</td><td>0.0</td><td>0.0</td><td>Apbb1ip</td><td>1.0</td><td>mRNA</td><td>1.0</td><td>2.80959</td><td>-4.2133</td><td>0.0935965</td><td>-31.5543</td><td>-1.54985</td><td>162.0</td><td>14.37</td><td>-6.39112</td><td>&nbsp;</td><td>1.0</td><td>3.0</td><td>0.0</td><td>1.0</td><td>0.0</td><td>1.0</td><td>0.0</td><td>0.0</td><td>0.0</td><td>9.0</td><td>...</td></tr><tr><td>...</td><td>...</td><td>...</td><td>...</td><td>...</td><td>...</td><td>...</td><td>...</td><td>...</td><td>...</td><td>...</td><td>...</td><td>...</td><td>...</td><td>...</td><td>...</td><td>...</td><td>...</td><td>...</td><td>...</td><td>...</td><td>...</td><td>...</td><td>...</td><td>...</td><td>...</td><td>...</td><td>...</td></tr></table>"
      ],
      "text/plain": [
       "<IPython.core.display.HTML object>"
      ]
     },
     "metadata": {},
     "output_type": "display_data"
    },
    {
     "data": {
      "text/html": [
       "This LoomConnection has been closed"
      ],
      "text/plain": [
       "<loompy.loompy.LoomConnection at 0x7f3f1360f320>"
      ]
     },
     "execution_count": 20,
     "metadata": {},
     "output_type": "execute_result"
    }
   ],
   "source": [
    "from IPython.display import display, HTML\n",
    "\n",
    "out = None\n",
    "ds2 = None\n",
    "with loompy.connect(filename) as ds:\n",
    "    output = ds._repr_html_()\n",
    "    ds2 = ds\n",
    "display(HTML(output))\n",
    "ds2"
   ]
  },
  {
   "cell_type": "code",
   "execution_count": 6,
   "metadata": {},
   "outputs": [
    {
     "ename": "ValueError",
     "evalue": "Not a location (Invalid object id)",
     "output_type": "error",
     "traceback": [
      "\u001b[0;31m---------------------------------------------------------------------------\u001b[0m",
      "\u001b[0;31mValueError\u001b[0m                                Traceback (most recent call last)",
      "\u001b[0;32m~/Dev/anaconda3/lib/python3.6/site-packages/IPython/core/formatters.py\u001b[0m in \u001b[0;36m__call__\u001b[0;34m(self, obj)\u001b[0m\n\u001b[1;32m    334\u001b[0m             \u001b[0mmethod\u001b[0m \u001b[0;34m=\u001b[0m \u001b[0mget_real_method\u001b[0m\u001b[0;34m(\u001b[0m\u001b[0mobj\u001b[0m\u001b[0;34m,\u001b[0m \u001b[0mself\u001b[0m\u001b[0;34m.\u001b[0m\u001b[0mprint_method\u001b[0m\u001b[0;34m)\u001b[0m\u001b[0;34m\u001b[0m\u001b[0m\n\u001b[1;32m    335\u001b[0m             \u001b[0;32mif\u001b[0m \u001b[0mmethod\u001b[0m \u001b[0;32mis\u001b[0m \u001b[0;32mnot\u001b[0m \u001b[0;32mNone\u001b[0m\u001b[0;34m:\u001b[0m\u001b[0;34m\u001b[0m\u001b[0m\n\u001b[0;32m--> 336\u001b[0;31m                 \u001b[0;32mreturn\u001b[0m \u001b[0mmethod\u001b[0m\u001b[0;34m(\u001b[0m\u001b[0;34m)\u001b[0m\u001b[0;34m\u001b[0m\u001b[0m\n\u001b[0m\u001b[1;32m    337\u001b[0m             \u001b[0;32mreturn\u001b[0m \u001b[0;32mNone\u001b[0m\u001b[0;34m\u001b[0m\u001b[0m\n\u001b[1;32m    338\u001b[0m         \u001b[0;32melse\u001b[0m\u001b[0;34m:\u001b[0m\u001b[0;34m\u001b[0m\u001b[0m\n",
      "\u001b[0;32m~/Dev/LinnarssonLab/loompy/loompy/loompy.py\u001b[0m in \u001b[0;36m_repr_html_\u001b[0;34m(self)\u001b[0m\n\u001b[1;32m    227\u001b[0m                 \u001b[0mcm\u001b[0m \u001b[0;34m=\u001b[0m \u001b[0mmin\u001b[0m\u001b[0;34m(\u001b[0m\u001b[0;36m10\u001b[0m\u001b[0;34m,\u001b[0m \u001b[0mself\u001b[0m\u001b[0;34m.\u001b[0m\u001b[0mshape\u001b[0m\u001b[0;34m[\u001b[0m\u001b[0;36m1\u001b[0m\u001b[0;34m]\u001b[0m\u001b[0;34m)\u001b[0m\u001b[0;34m\u001b[0m\u001b[0m\n\u001b[1;32m    228\u001b[0m                 \u001b[0mhtml\u001b[0m \u001b[0;34m=\u001b[0m \u001b[0;34m\"<p>\"\u001b[0m\u001b[0;34m\u001b[0m\u001b[0m\n\u001b[0;32m--> 229\u001b[0;31m                 \u001b[0;32mif\u001b[0m \u001b[0mself\u001b[0m\u001b[0;34m.\u001b[0m\u001b[0mattrs\u001b[0m\u001b[0;34m.\u001b[0m\u001b[0m__contains__\u001b[0m\u001b[0;34m(\u001b[0m\u001b[0;34m\"title\"\u001b[0m\u001b[0;34m)\u001b[0m\u001b[0;34m:\u001b[0m\u001b[0;34m\u001b[0m\u001b[0m\n\u001b[0m\u001b[1;32m    230\u001b[0m                         \u001b[0mhtml\u001b[0m \u001b[0;34m+=\u001b[0m \u001b[0;34m\"<strong>\"\u001b[0m \u001b[0;34m+\u001b[0m \u001b[0mself\u001b[0m\u001b[0;34m.\u001b[0m\u001b[0mattrs\u001b[0m\u001b[0;34m[\u001b[0m\u001b[0;34m\"title\"\u001b[0m\u001b[0;34m]\u001b[0m \u001b[0;34m+\u001b[0m \u001b[0;34m\"</strong> \"\u001b[0m\u001b[0;34m\u001b[0m\u001b[0m\n\u001b[1;32m    231\u001b[0m                 \u001b[0mhtml\u001b[0m \u001b[0;34m+=\u001b[0m \u001b[0;34m\"(\"\u001b[0m \u001b[0;34m+\u001b[0m \u001b[0mstr\u001b[0m\u001b[0;34m(\u001b[0m\u001b[0mself\u001b[0m\u001b[0;34m.\u001b[0m\u001b[0mshape\u001b[0m\u001b[0;34m[\u001b[0m\u001b[0;36m0\u001b[0m\u001b[0;34m]\u001b[0m\u001b[0;34m)\u001b[0m \u001b[0;34m+\u001b[0m \u001b[0;34m\" genes, \"\u001b[0m \u001b[0;34m+\u001b[0m \u001b[0mstr\u001b[0m\u001b[0;34m(\u001b[0m\u001b[0mself\u001b[0m\u001b[0;34m.\u001b[0m\u001b[0mshape\u001b[0m\u001b[0;34m[\u001b[0m\u001b[0;36m1\u001b[0m\u001b[0;34m]\u001b[0m\u001b[0;34m)\u001b[0m \u001b[0;34m+\u001b[0m \u001b[0;34m\" cells, \"\u001b[0m \u001b[0;34m+\u001b[0m \u001b[0mstr\u001b[0m\u001b[0;34m(\u001b[0m\u001b[0mlen\u001b[0m\u001b[0;34m(\u001b[0m\u001b[0mself\u001b[0m\u001b[0;34m.\u001b[0m\u001b[0mlayer\u001b[0m\u001b[0;34m)\u001b[0m\u001b[0;34m)\u001b[0m \u001b[0;34m+\u001b[0m \u001b[0;34m\" layers)<br/>\"\u001b[0m\u001b[0;34m\u001b[0m\u001b[0m\n",
      "\u001b[0;32m~/Dev/LinnarssonLab/loompy/loompy/loompy.py\u001b[0m in \u001b[0;36m__contains__\u001b[0;34m(self, name)\u001b[0m\n\u001b[1;32m     58\u001b[0m \u001b[0;34m\u001b[0m\u001b[0m\n\u001b[1;32m     59\u001b[0m         \u001b[0;32mdef\u001b[0m \u001b[0m__contains__\u001b[0m\u001b[0;34m(\u001b[0m\u001b[0mself\u001b[0m\u001b[0;34m,\u001b[0m \u001b[0mname\u001b[0m\u001b[0;34m:\u001b[0m \u001b[0mstr\u001b[0m\u001b[0;34m)\u001b[0m \u001b[0;34m->\u001b[0m \u001b[0mbool\u001b[0m\u001b[0;34m:\u001b[0m\u001b[0;34m\u001b[0m\u001b[0m\n\u001b[0;32m---> 60\u001b[0;31m                 \u001b[0;32mreturn\u001b[0m \u001b[0mself\u001b[0m\u001b[0;34m.\u001b[0m\u001b[0mf\u001b[0m\u001b[0;34m.\u001b[0m\u001b[0mattrs\u001b[0m\u001b[0;34m.\u001b[0m\u001b[0m__contains__\u001b[0m\u001b[0;34m(\u001b[0m\u001b[0mname\u001b[0m\u001b[0;34m)\u001b[0m\u001b[0;34m\u001b[0m\u001b[0m\n\u001b[0m\u001b[1;32m     61\u001b[0m \u001b[0;34m\u001b[0m\u001b[0m\n\u001b[1;32m     62\u001b[0m         \u001b[0;32mdef\u001b[0m \u001b[0m__setitem__\u001b[0m\u001b[0;34m(\u001b[0m\u001b[0mself\u001b[0m\u001b[0;34m,\u001b[0m \u001b[0mname\u001b[0m\u001b[0;34m:\u001b[0m \u001b[0mstr\u001b[0m\u001b[0;34m,\u001b[0m \u001b[0mvalue\u001b[0m\u001b[0;34m:\u001b[0m \u001b[0mstr\u001b[0m\u001b[0;34m)\u001b[0m \u001b[0;34m->\u001b[0m \u001b[0;32mNone\u001b[0m\u001b[0;34m:\u001b[0m\u001b[0;34m\u001b[0m\u001b[0m\n",
      "\u001b[0;32mh5py/_objects.pyx\u001b[0m in \u001b[0;36mh5py._objects.with_phil.wrapper\u001b[0;34m()\u001b[0m\n",
      "\u001b[0;32mh5py/_objects.pyx\u001b[0m in \u001b[0;36mh5py._objects.with_phil.wrapper\u001b[0;34m()\u001b[0m\n",
      "\u001b[0;32m~/Dev/anaconda3/lib/python3.6/site-packages/h5py/_hl/files.py\u001b[0m in \u001b[0;36mattrs\u001b[0;34m(self)\u001b[0m\n\u001b[1;32m    153\u001b[0m         \u001b[0;31m# attribute. Instead of self, pass the root group to AttributeManager:\u001b[0m\u001b[0;34m\u001b[0m\u001b[0;34m\u001b[0m\u001b[0m\n\u001b[1;32m    154\u001b[0m         \u001b[0;32mfrom\u001b[0m \u001b[0;34m.\u001b[0m \u001b[0;32mimport\u001b[0m \u001b[0mattrs\u001b[0m\u001b[0;34m\u001b[0m\u001b[0m\n\u001b[0;32m--> 155\u001b[0;31m         \u001b[0;32mreturn\u001b[0m \u001b[0mattrs\u001b[0m\u001b[0;34m.\u001b[0m\u001b[0mAttributeManager\u001b[0m\u001b[0;34m(\u001b[0m\u001b[0mself\u001b[0m\u001b[0;34m[\u001b[0m\u001b[0;34m'/'\u001b[0m\u001b[0;34m]\u001b[0m\u001b[0;34m)\u001b[0m\u001b[0;34m\u001b[0m\u001b[0m\n\u001b[0m\u001b[1;32m    156\u001b[0m \u001b[0;34m\u001b[0m\u001b[0m\n\u001b[1;32m    157\u001b[0m     \u001b[0;34m@\u001b[0m\u001b[0mproperty\u001b[0m\u001b[0;34m\u001b[0m\u001b[0m\n",
      "\u001b[0;32mh5py/_objects.pyx\u001b[0m in \u001b[0;36mh5py._objects.with_phil.wrapper\u001b[0;34m()\u001b[0m\n",
      "\u001b[0;32mh5py/_objects.pyx\u001b[0m in \u001b[0;36mh5py._objects.with_phil.wrapper\u001b[0;34m()\u001b[0m\n",
      "\u001b[0;32m~/Dev/anaconda3/lib/python3.6/site-packages/h5py/_hl/group.py\u001b[0m in \u001b[0;36m__getitem__\u001b[0;34m(self, name)\u001b[0m\n\u001b[1;32m    167\u001b[0m                 \u001b[0;32mraise\u001b[0m \u001b[0mValueError\u001b[0m\u001b[0;34m(\u001b[0m\u001b[0;34m\"Invalid HDF5 object reference\"\u001b[0m\u001b[0;34m)\u001b[0m\u001b[0;34m\u001b[0m\u001b[0m\n\u001b[1;32m    168\u001b[0m         \u001b[0;32melse\u001b[0m\u001b[0;34m:\u001b[0m\u001b[0;34m\u001b[0m\u001b[0m\n\u001b[0;32m--> 169\u001b[0;31m             \u001b[0moid\u001b[0m \u001b[0;34m=\u001b[0m \u001b[0mh5o\u001b[0m\u001b[0;34m.\u001b[0m\u001b[0mopen\u001b[0m\u001b[0;34m(\u001b[0m\u001b[0mself\u001b[0m\u001b[0;34m.\u001b[0m\u001b[0mid\u001b[0m\u001b[0;34m,\u001b[0m \u001b[0mself\u001b[0m\u001b[0;34m.\u001b[0m\u001b[0m_e\u001b[0m\u001b[0;34m(\u001b[0m\u001b[0mname\u001b[0m\u001b[0;34m)\u001b[0m\u001b[0;34m,\u001b[0m \u001b[0mlapl\u001b[0m\u001b[0;34m=\u001b[0m\u001b[0mself\u001b[0m\u001b[0;34m.\u001b[0m\u001b[0m_lapl\u001b[0m\u001b[0;34m)\u001b[0m\u001b[0;34m\u001b[0m\u001b[0m\n\u001b[0m\u001b[1;32m    170\u001b[0m \u001b[0;34m\u001b[0m\u001b[0m\n\u001b[1;32m    171\u001b[0m         \u001b[0motype\u001b[0m \u001b[0;34m=\u001b[0m \u001b[0mh5i\u001b[0m\u001b[0;34m.\u001b[0m\u001b[0mget_type\u001b[0m\u001b[0;34m(\u001b[0m\u001b[0moid\u001b[0m\u001b[0;34m)\u001b[0m\u001b[0;34m\u001b[0m\u001b[0m\n",
      "\u001b[0;32mh5py/_objects.pyx\u001b[0m in \u001b[0;36mh5py._objects.with_phil.wrapper\u001b[0;34m()\u001b[0m\n",
      "\u001b[0;32mh5py/_objects.pyx\u001b[0m in \u001b[0;36mh5py._objects.with_phil.wrapper\u001b[0;34m()\u001b[0m\n",
      "\u001b[0;32mh5py/h5o.pyx\u001b[0m in \u001b[0;36mh5py.h5o.open\u001b[0;34m()\u001b[0m\n",
      "\u001b[0;31mValueError\u001b[0m: Not a location (Invalid object id)"
     ]
    },
    {
     "data": {
      "text/plain": [
       "<loompy.loompy.LoomConnection at 0x7f50ac6e76d8>"
      ]
     },
     "execution_count": 6,
     "metadata": {},
     "output_type": "execute_result"
    }
   ],
   "source": []
  }
 ],
 "metadata": {
  "kernelspec": {
   "display_name": "Python 3",
   "language": "python",
   "name": "python3"
  },
  "language_info": {
   "codemirror_mode": {
    "name": "ipython",
    "version": 3
   },
   "file_extension": ".py",
   "mimetype": "text/x-python",
   "name": "python",
   "nbconvert_exporter": "python",
   "pygments_lexer": "ipython3",
   "version": "3.6.3"
  }
 },
 "nbformat": 4,
 "nbformat_minor": 2
}
