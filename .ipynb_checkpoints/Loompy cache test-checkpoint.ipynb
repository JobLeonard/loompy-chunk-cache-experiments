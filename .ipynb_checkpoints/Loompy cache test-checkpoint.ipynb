{
 "cells": [
  {
   "cell_type": "code",
   "execution_count": 1,
   "metadata": {
    "scrolled": true
   },
   "outputs": [],
   "source": [
    "import loompy\n",
    "import numpy as np\n",
    "import h5py\n",
    "import random\n",
    "import time\n",
    "\n",
    "# open file with custom chunk cache settings\n",
    "def open_HDF5(filename, cache=1, libver='earliest'):\n",
    "    propfaid = h5py.h5p.create(h5py.h5p.FILE_ACCESS)\n",
    "    settings = list(propfaid.get_cache())\n",
    "    # will return default: [0, 521, 1048576, 0.75]\n",
    "\n",
    "    # increase cache:\n",
    "    settings[2] = 1024*1024*cache\n",
    "    propfaid.set_cache(*settings)\n",
    "    settings = propfaid.get_cache()\n",
    "    #print(settings)\n",
    "    fid = h5py.h5f.open(filename, flags=h5py.h5f.ACC_RDWR, fapl=propfaid)\n",
    "    return h5py.File(fid, libver)\n",
    "\n",
    "# benchmark random access time\n",
    "def time_random_access(hdf5_file, times=100, output=[]):\n",
    "    rmax = hdf5_file[\"/matrix\"].shape[0]-1\n",
    "    start = time.perf_counter()\n",
    "    for t in range(0, times):\n",
    "        idx = random.randint(0, rmax)\n",
    "        hdf5_file['/matrix'][idx,:]\n",
    "    end = time.perf_counter()\n",
    "    output.append(\"%f s\" % (end-start))\n",
    "    \n",
    "# benchmark sequential access time (fancy indexing)\n",
    "def time_fancy_indexing(hdf5_file, rows=1000, output=[]):\n",
    "    rmax = hdf5_file[\"/matrix\"].shape[0]-1\n",
    "    start = time.perf_counter()\n",
    "    hdf5_file['/matrix'][0:rows,:]\n",
    "    end = time.perf_counter()\n",
    "    output.append(\"%f s\" % (end-start))\n",
    "    \n",
    "def time_sequential_access(hdf5_file, rows=1000, output=[]):\n",
    "    rmax = hdf5_file[\"/matrix\"].shape[0]-1\n",
    "    start = time.perf_counter()\n",
    "    for i in range(rows):\n",
    "        hdf5_file['/matrix'][i:i + 1,:]\n",
    "    end = time.perf_counter()\n",
    "    output.append(\"%f s\" % (end-start))\n",
    "\n",
    "def bench_random_access(filename, rows=10):\n",
    "    output = [\"Benchmarking random accessing %d times\" % rows]\n",
    "    file = open_HDF5(filename, 1)\n",
    "    output.append(\"row length: %d\" % (file[\"/matrix\"].shape[1]-1))\n",
    "    file.close()\n",
    "\n",
    "    output.append(\"cache size: 0\")\n",
    "    file = open_HDF5(filename, 0)\n",
    "    time_random_access(file, rows, output)\n",
    "    file.close()\n",
    "    \n",
    "    for i in range(0, 10):\n",
    "        output.append(\"cache size: %d\" % (1<<i))\n",
    "        file = open_HDF5(filename, 1<<i)\n",
    "        time_random_access(file, rows, output)\n",
    "        file.close()\n",
    "\n",
    "    for line in output:\n",
    "        print(line)\n",
    "        \n",
    "\n",
    "def bench_fancy_indexing(filename, rows=100):\n",
    "    output = [\"Benchmarking fancy indexing, %d rows\" % rows]\n",
    "    file = open_HDF5(filename, 1)\n",
    "    output.append(\"row length: %d\" % (file[\"/matrix\"].shape[1]-1))\n",
    "    file.close()\n",
    "\n",
    "    output.append(\"cache size: 0\")\n",
    "    file = open_HDF5(filename, 0)\n",
    "    time_fancy_indexing(file, rows, output)\n",
    "    file.close()\n",
    "    \n",
    "    for i in range(0, 10):\n",
    "        output.append(\"cache size: %d\" % (1<<i))\n",
    "        file = open_HDF5(filename, 1<<i)\n",
    "        time_fancy_indexing(file, rows, output)\n",
    "        file.close()\n",
    "\n",
    "    for line in output:\n",
    "        print(line)\n",
    "        \n",
    "def bench_sequential_access(filename, rows=100):\n",
    "    output = [\"Benchmarking sequential access, %d rows\" % rows]\n",
    "    file = open_HDF5(filename, 1)\n",
    "    output.append(\"row length: %d\" % (file[\"/matrix\"].shape[1]-1))\n",
    "    file.close()\n",
    "\n",
    "    output.append(\"cache size: 0\")\n",
    "    file = open_HDF5(filename, 0)\n",
    "    time_sequential_access(file, rows, output)\n",
    "    file.close()\n",
    "\n",
    "    \n",
    "    for i in range(0, 10):\n",
    "        output.append(\"cache size: %d\" % (1<<i))\n",
    "        file = open_HDF5(filename, 1<<i)\n",
    "        time_sequential_access(file, rows, output)\n",
    "        file.close()\n",
    "\n",
    "    for line in output:\n",
    "        print(line)"
   ]
  },
  {
   "cell_type": "code",
   "execution_count": 2,
   "metadata": {},
   "outputs": [
    {
     "name": "stdout",
     "output_type": "stream",
     "text": [
      "Benchmarking random accessing 250 times\n",
      "row length: 3004\n",
      "cache size: 0\n",
      "0.927527 s\n",
      "cache size: 1\n",
      "0.909042 s\n",
      "cache size: 2\n",
      "0.903969 s\n",
      "cache size: 4\n",
      "0.883775 s\n",
      "cache size: 8\n",
      "0.903071 s\n",
      "cache size: 16\n",
      "0.896227 s\n",
      "cache size: 32\n",
      "0.886945 s\n",
      "cache size: 64\n",
      "0.903608 s\n",
      "cache size: 128\n",
      "1.160984 s\n",
      "cache size: 256\n",
      "1.016508 s\n",
      "cache size: 512\n",
      "0.917050 s\n"
     ]
    }
   ],
   "source": [
    "filename = b\"/home/job/loom-datasets/Published/cortex.loom\"\n",
    "bench_random_access(filename, 250)"
   ]
  },
  {
   "cell_type": "code",
   "execution_count": 3,
   "metadata": {},
   "outputs": [
    {
     "name": "stdout",
     "output_type": "stream",
     "text": [
      "Benchmarking sequential access, 250 rows\n",
      "row length: 3004\n",
      "cache size: 0\n",
      "1.004439 s\n",
      "cache size: 1\n",
      "0.997207 s\n",
      "cache size: 2\n",
      "0.922098 s\n",
      "cache size: 4\n",
      "0.917260 s\n",
      "cache size: 8\n",
      "0.914837 s\n",
      "cache size: 16\n",
      "0.919417 s\n",
      "cache size: 32\n",
      "0.923173 s\n",
      "cache size: 64\n",
      "0.920648 s\n",
      "cache size: 128\n",
      "0.912934 s\n",
      "cache size: 256\n",
      "0.916382 s\n",
      "cache size: 512\n",
      "0.929429 s\n"
     ]
    }
   ],
   "source": [
    "filename = b\"/home/job/loom-datasets/Published/cortex.loom\"\n",
    "bench_sequential_access(filename, 250)"
   ]
  },
  {
   "cell_type": "code",
   "execution_count": 4,
   "metadata": {},
   "outputs": [
    {
     "name": "stdout",
     "output_type": "stream",
     "text": [
      "Benchmarking fancy indexing, 250 rows\n",
      "row length: 3004\n",
      "cache size: 0\n",
      "0.017818 s\n",
      "cache size: 1\n",
      "0.020303 s\n",
      "cache size: 2\n",
      "0.018101 s\n",
      "cache size: 4\n",
      "0.015587 s\n",
      "cache size: 8\n",
      "0.017676 s\n",
      "cache size: 16\n",
      "0.015929 s\n",
      "cache size: 32\n",
      "0.015379 s\n",
      "cache size: 64\n",
      "0.014928 s\n",
      "cache size: 128\n",
      "0.014773 s\n",
      "cache size: 256\n",
      "0.014695 s\n",
      "cache size: 512\n",
      "0.015905 s\n"
     ]
    }
   ],
   "source": [
    "filename = b\"/home/job/loom-datasets/Published/cortex.loom\"\n",
    "bench_fancy_indexing(filename, 250)"
   ]
  },
  {
   "cell_type": "code",
   "execution_count": 5,
   "metadata": {
    "scrolled": false
   },
   "outputs": [
    {
     "name": "stdout",
     "output_type": "stream",
     "text": [
      "Benchmarking random accessing 100 times\n",
      "row length: 44871\n",
      "cache size: 0\n",
      "5.185772 s\n",
      "cache size: 1\n",
      "4.703519 s\n",
      "cache size: 2\n",
      "4.474222 s\n",
      "cache size: 4\n",
      "4.510434 s\n",
      "cache size: 8\n",
      "4.338971 s\n",
      "cache size: 16\n",
      "4.284397 s\n",
      "cache size: 32\n",
      "4.232792 s\n",
      "cache size: 64\n",
      "4.362979 s\n",
      "cache size: 128\n",
      "4.285086 s\n",
      "cache size: 256\n",
      "4.141858 s\n",
      "cache size: 512\n",
      "4.253270 s\n"
     ]
    }
   ],
   "source": [
    "filename = b\"/home/job/loom-datasets/Build 161109/Forebrain_E9-E18.5.loom\"\n",
    "bench_random_access(filename, 100)"
   ]
  },
  {
   "cell_type": "code",
   "execution_count": 6,
   "metadata": {},
   "outputs": [
    {
     "name": "stdout",
     "output_type": "stream",
     "text": [
      "Benchmarking sequential access, 100 rows\n",
      "row length: 44871\n",
      "cache size: 0\n",
      "3.945070 s\n",
      "cache size: 1\n",
      "3.903334 s\n",
      "cache size: 2\n",
      "3.924674 s\n",
      "cache size: 4\n",
      "3.953314 s\n",
      "cache size: 8\n",
      "3.968858 s\n",
      "cache size: 16\n",
      "3.900579 s\n",
      "cache size: 32\n",
      "3.951991 s\n",
      "cache size: 64\n",
      "3.899967 s\n",
      "cache size: 128\n",
      "3.887940 s\n",
      "cache size: 256\n",
      "3.886656 s\n",
      "cache size: 512\n",
      "3.886057 s\n"
     ]
    }
   ],
   "source": [
    "filename = b\"/home/job/loom-datasets/Build 161109/Forebrain_E9-E18.5.loom\"\n",
    "bench_sequential_access(filename, 100)"
   ]
  },
  {
   "cell_type": "code",
   "execution_count": 7,
   "metadata": {},
   "outputs": [
    {
     "name": "stdout",
     "output_type": "stream",
     "text": [
      "Benchmarking fancy indexing, 100 rows\n",
      "row length: 44871\n",
      "cache size: 0\n",
      "0.091739 s\n",
      "cache size: 1\n",
      "0.086549 s\n",
      "cache size: 2\n",
      "0.083516 s\n",
      "cache size: 4\n",
      "0.089008 s\n",
      "cache size: 8\n",
      "0.092471 s\n",
      "cache size: 16\n",
      "0.084320 s\n",
      "cache size: 32\n",
      "0.091956 s\n",
      "cache size: 64\n",
      "0.094440 s\n",
      "cache size: 128\n",
      "0.093859 s\n",
      "cache size: 256\n",
      "0.085308 s\n",
      "cache size: 512\n",
      "0.084123 s\n"
     ]
    }
   ],
   "source": [
    "filename = b\"/home/job/loom-datasets/Build 161109/Forebrain_E9-E18.5.loom\"\n",
    "bench_fancy_indexing(filename, 100)"
   ]
  },
  {
   "cell_type": "code",
   "execution_count": 8,
   "metadata": {},
   "outputs": [
    {
     "name": "stdout",
     "output_type": "stream",
     "text": [
      "0.41683780099992873\n",
      "0.43315270000039163\n"
     ]
    }
   ],
   "source": [
    "# Maybe it's the overhead of accessing \"/matrix\"?\n",
    "\n",
    "file = open_HDF5(b\"/home/job/loom-datasets/Build 161109/Forebrain_E9-E18.5.loom\", 100, 'latest')\n",
    "matrix = file[\"/matrix\"]\n",
    "\n",
    "start = time.perf_counter()\n",
    "for i in range(0, 10):\n",
    "    t = matrix[i*100,(i+1)*100:]\n",
    "end = time.perf_counter()\n",
    "print(end-start)\n",
    "\n",
    "start = time.perf_counter()\n",
    "for i in range(0, 10):\n",
    "    t = file[\"/matrix\"][i*100,(i+1)*100:]\n",
    "end = time.perf_counter()\n",
    "print(end-start)\n",
    "\n",
    "file.close()"
   ]
  }
 ],
 "metadata": {
  "kernelspec": {
   "display_name": "Python 3",
   "language": "python",
   "name": "python3"
  },
  "language_info": {
   "codemirror_mode": {
    "name": "ipython",
    "version": 3
   },
   "file_extension": ".py",
   "mimetype": "text/x-python",
   "name": "python",
   "nbconvert_exporter": "python",
   "pygments_lexer": "ipython3",
   "version": "3.6.3"
  }
 },
 "nbformat": 4,
 "nbformat_minor": 2
}
